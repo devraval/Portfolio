{
 "cells": [
  {
   "cell_type": "code",
   "execution_count": null,
   "metadata": {},
   "outputs": [],
   "source": [
    "%load_ext autoreload\n",
    "%autoreload 2"
   ]
  },
  {
   "cell_type": "markdown",
   "metadata": {},
   "source": [
    "# Importing ticker data of S&P 400 MidCap Index"
   ]
  },
  {
   "cell_type": "markdown",
   "metadata": {},
   "source": [
    "Ticker or symbol data of the stocks listed on the S&P 400 MidCap index was scraped from Wikipedia using BeautifulSoup and stored in a pickle file."
   ]
  },
  {
   "cell_type": "code",
   "execution_count": null,
   "metadata": {},
   "outputs": [],
   "source": [
    "import matplotlib.pyplot as plt\n",
    "from matplotlib import style"
   ]
  },
  {
   "cell_type": "code",
   "execution_count": null,
   "metadata": {},
   "outputs": [],
   "source": [
    "import bs4 as bs\n",
    "import datetime as dt\n",
    "import os\n",
    "import pandas as pd\n",
    "import pandas_datareader.data as web\n",
    "import pickle\n",
    "import requests\n",
    "\n",
    "\n",
    "def save_sp400_tickers():\n",
    "    resp = requests.get('https://en.wikipedia.org/wiki/List_of_S%26P_400_companies')\n",
    "    soup = bs.BeautifulSoup(resp.text, 'lxml')\n",
    "    table = soup.find('table', {'class': 'wikitable sortable'})\n",
    "    tickers = []\n",
    "    names=[]\n",
    "    for row in table.findAll('tr')[1:]:\n",
    "        ticker = row.findAll('td')[1].text\n",
    "        tickers.append(ticker)\n",
    "    with open(\"sp400tickers.pickle\", \"wb\") as f:\n",
    "        pickle.dump(tickers, f)\n",
    "    for row in table.findAll('tr')[1:]:\n",
    "        name = row.findAll('td')[0].text\n",
    "        name=name.rstrip('\\n')\n",
    "        names.append(name)\n",
    "    with open(\"sp400name.pickle\", \"wb\") as f:\n",
    "        pickle.dump(names, f)\n",
    "    return tickers\n",
    "tickerz=save_sp500_tickers()\n",
    "def save_sp400_names():\n",
    "    resp = requests.get('https://en.wikipedia.org/wiki/List_of_S%26P_400_companies')\n",
    "    soup = bs.BeautifulSoup(resp.text, 'lxml')\n",
    "    table = soup.find('table', {'class': 'wikitable sortable'})\n",
    "    names=[]\n",
    "    for row in table.findAll('tr')[1:]:\n",
    "        name = row.findAll('td')[0].text\n",
    "        name=name.rstrip('\\n')\n",
    "        names.append(name)\n",
    "    with open(\"sp400name.pickle\", \"wb\") as f:\n",
    "        pickle.dump(names, f)\n",
    "    return names"
   ]
  },
  {
   "cell_type": "code",
   "execution_count": null,
   "metadata": {},
   "outputs": [],
   "source": [
    "names=save_sp500_names()"
   ]
  },
  {
   "cell_type": "code",
   "execution_count": null,
   "metadata": {},
   "outputs": [],
   "source": [
    "snp400=pd.DataFrame(tickerz)\n",
    "snp400['name']=names\n",
    "snp400"
   ]
  },
  {
   "cell_type": "markdown",
   "metadata": {},
   "source": [
    "## Building a dataframe of prices of S&P400 index using the FinQuant module"
   ]
  },
  {
   "cell_type": "code",
   "execution_count": null,
   "metadata": {},
   "outputs": [],
   "source": [
    "import pathlib\n",
    "import matplotlib.pyplot as plt\n",
    "import finquant\n",
    "# Portfolio weights allocation list for equally weighted\n",
    "alloc=list([1.00]*400)\n",
    "pf_allocation=pd.DataFrame({\"Name\":tickerz,\"Allocation\":alloc})\n",
    "pf_allocation"
   ]
  },
  {
   "cell_type": "code",
   "execution_count": null,
   "metadata": {},
   "outputs": [],
   "source": [
    "from finquant.portfolio import build_portfolio\n",
    "names =  pf_allocation[\"Name\"].values.tolist()\n",
    "\n",
    "start_date = '2010-01-01'\n",
    "end_date = '2019-12-31'\n",
    "pf = build_portfolio(names=names,pf_allocation=pf_allocation,data_api=\"yfinance\",\n",
    "                    start_date=start_date,\n",
    "                    end_date=end_date)\n",
    "pf.data.head(3)"
   ]
  },
  {
   "cell_type": "code",
   "execution_count": null,
   "metadata": {},
   "outputs": [],
   "source": [
    "df=pf.data"
   ]
  },
  {
   "cell_type": "code",
   "execution_count": null,
   "metadata": {},
   "outputs": [],
   "source": [
    "%load_ext autoreload\n",
    "%autoreload 2\n",
    "#converting to monthly index\n",
    "df1=df\n",
    "df1.index = pd.to_datetime(df1.index, format=\"%Y%m\").to_period('M')"
   ]
  },
  {
   "cell_type": "code",
   "execution_count": null,
   "metadata": {},
   "outputs": [],
   "source": [
    "#keeping only month starting values as month lengths are irregularand contain NaN values \n",
    "df1 = df1.loc[~df1.index.duplicated(keep='first')]\n",
    "df1"
   ]
  },
  {
   "cell_type": "code",
   "execution_count": null,
   "metadata": {},
   "outputs": [],
   "source": []
  },
  {
   "cell_type": "markdown",
   "metadata": {},
   "source": [
    "## Splitting the dataframe into older and newly listed companies"
   ]
  },
  {
   "cell_type": "markdown",
   "metadata": {},
   "source": [
    "As 65 companies were listed on the index in between the time frame of analysis(2010-2020), a seperate dataframe is formed for those particular companies with a time frame(2014-2020) where half of these were listed on the index."
   ]
  },
  {
   "cell_type": "code",
   "execution_count": null,
   "metadata": {},
   "outputs": [],
   "source": [
    "nans=df1.columns[df1.isna().any()]\n",
    "len(nans)"
   ]
  },
  {
   "cell_type": "code",
   "execution_count": null,
   "metadata": {},
   "outputs": [],
   "source": [
    "newlisted=df1.columns[df1['2014-09':].isna().any()]\n",
    "len(newlisted)"
   ]
  },
  {
   "cell_type": "markdown",
   "metadata": {},
   "source": [
    "Thus, roughly halfway in the timeframe, i.e. 2014-09 we find that half of the companies have been listed on the index"
   ]
  },
  {
   "cell_type": "code",
   "execution_count": null,
   "metadata": {},
   "outputs": [],
   "source": [
    "oldstocks=df1.drop(nans,axis=1)\n",
    "oldies=oldstocks.columns\n",
    "oldstocks"
   ]
  },
  {
   "cell_type": "code",
   "execution_count": null,
   "metadata": {},
   "outputs": [],
   "source": [
    "newstocks1=df1.drop(newlisted,axis=1)\n",
    "newstocks=newstocks1.drop(oldies,axis=1)\n",
    "newstocks=newstocks['2014-09':]\n",
    "newstocks"
   ]
  },
  {
   "cell_type": "markdown",
   "metadata": {},
   "source": [
    "Saving the dataframes for later use"
   ]
  },
  {
   "cell_type": "code",
   "execution_count": null,
   "metadata": {},
   "outputs": [],
   "source": [
    "writer = pd.ExcelWriter(r'D:\\notebooks_and_codem01_v02\\data\\oldstockssnp400.xlsx', engine='xlsxwriter')\n",
    "\n",
    "# Convert the dataframe to an XlsxWriter Excel object.\n",
    "oldstocks.to_excel(writer, sheet_name='Sheet1')\n",
    "\n",
    "# Close the Pandas Excel writer and output the Excel file.\n",
    "writer.save()"
   ]
  },
  {
   "cell_type": "code",
   "execution_count": null,
   "metadata": {},
   "outputs": [],
   "source": [
    "writer = pd.ExcelWriter(r'D:\\notebooks_and_codem01_v02\\data\\newstockssnp400.xlsx', engine='xlsxwriter')\n",
    "\n",
    "# Convert the dataframe to an XlsxWriter Excel object.\n",
    "newstocks.to_excel(writer, sheet_name='Sheet1')\n",
    "\n",
    "# Close the Pandas Excel writer and output the Excel file.\n",
    "writer.save()"
   ]
  },
  {
   "cell_type": "code",
   "execution_count": null,
   "metadata": {},
   "outputs": [],
   "source": [
    "rets1=oldstocks.pct_change().dropna()"
   ]
  },
  {
   "cell_type": "markdown",
   "metadata": {},
   "source": [
    "## Importing a module used in a online course for ease and standardized calculation of parameters."
   ]
  },
  {
   "cell_type": "markdown",
   "metadata": {},
   "source": [
    "Also calculating covariance matrices to use in calculating global minimum variance and Max Sharpe ratio portfolio weights."
   ]
  },
  {
   "cell_type": "code",
   "execution_count": null,
   "metadata": {},
   "outputs": [],
   "source": [
    "%load_ext autoreload\n",
    "%autoreload 2\n",
    "import edhec_risk_kit_206 as erk\n"
   ]
  },
  {
   "cell_type": "code",
   "execution_count": null,
   "metadata": {},
   "outputs": [],
   "source": [
    "cov1=erk.shrinkage_cov(rets1)\n",
    "cov1"
   ]
  },
  {
   "cell_type": "code",
   "execution_count": null,
   "metadata": {},
   "outputs": [],
   "source": [
    "rets2=newstocks1.pct_change().dropna()\n",
    "cov2=erk.shrinkage_cov(rets2)"
   ]
  },
  {
   "cell_type": "code",
   "execution_count": null,
   "metadata": {},
   "outputs": [],
   "source": [
    "cov2"
   ]
  },
  {
   "cell_type": "code",
   "execution_count": null,
   "metadata": {},
   "outputs": [],
   "source": [
    "import numpy as np\n",
    "import statsmodels.api as sm\n",
    "import matplotlib.pyplot as plt\n"
   ]
  },
  {
   "cell_type": "markdown",
   "metadata": {},
   "source": [
    "## Importing data of Vanguard MidCap ETF(IVOO) which uses stocks from the S&P 400 index(MID)."
   ]
  },
  {
   "cell_type": "code",
   "execution_count": null,
   "metadata": {},
   "outputs": [],
   "source": [
    "import yfinance as yf\n",
    "data = yf.download(\"IVOO\", start=\"2009-12-31\", end=\"2020-01-01\")\n",
    "vang=pd.DataFrame(data['Adj Close'],index=data.index)\n",
    "vang.rename(columns={'Adj Close':'VANG midcap'}, inplace=True)\n",
    "vang=vang.dropna()\n",
    "vang.index = pd.to_datetime(vang.index, format=\"%Y%m\").to_period('M')\n",
    "vang = vang.loc[~vang.index.duplicated(keep='first')]\n",
    "vang"
   ]
  },
  {
   "cell_type": "markdown",
   "metadata": {},
   "source": [
    "## Importing FamaFrench Research Data Factors for factor analysis"
   ]
  },
  {
   "cell_type": "code",
   "execution_count": null,
   "metadata": {},
   "outputs": [],
   "source": [
    "ffs = pd.read_csv(r'D:\\notebooks_and_codem01_v02\\F-F_Research_Data_Factors.CSV',\n",
    "                       header=0, index_col=0, na_values=-99.99)/100\n",
    "ffs.index = pd.to_datetime(ffs.index, format=\"%Y%m\").to_period('M')"
   ]
  },
  {
   "cell_type": "code",
   "execution_count": null,
   "metadata": {},
   "outputs": [],
   "source": [
    "ffs1=ffs['2010-02':'2019-12']\n",
    "ffs1['constant']=1\n",
    "ffs1.shape"
   ]
  },
  {
   "cell_type": "markdown",
   "metadata": {},
   "source": [
    "## Importing cap-weighted returns of S&P 400 MidCap Index"
   ]
  },
  {
   "cell_type": "code",
   "execution_count": null,
   "metadata": {},
   "outputs": [],
   "source": [
    "MID=pd.read_csv(r'D:\\downloads\\^MID.csv', header=0, index_col=0,parse_dates=True)"
   ]
  },
  {
   "cell_type": "code",
   "execution_count": null,
   "metadata": {},
   "outputs": [],
   "source": [
    "MID.drop(['Open','High','Low','Close','Volume'],1,inplace=True)\n",
    "MID.rename(columns={'Adj Close':'400MID'},inplace=True)\n",
    "MID=MID[:'2019-12']"
   ]
  },
  {
   "cell_type": "code",
   "execution_count": null,
   "metadata": {},
   "outputs": [],
   "source": [
    "MID=MID.pct_change().dropna()\n",
    "MID.index = pd.to_datetime(MID.index, format=\"%Y%m\").to_period('M')"
   ]
  },
  {
   "cell_type": "code",
   "execution_count": null,
   "metadata": {},
   "outputs": [],
   "source": [
    "MID=MID[:'2019-12']\n",
    "MIDexcess=MID['400MID']-ffs1[\"RF\"].values"
   ]
  },
  {
   "cell_type": "code",
   "execution_count": null,
   "metadata": {},
   "outputs": [],
   "source": [
    "ffs2=ffs1.drop(['RF'],1)"
   ]
  },
  {
   "cell_type": "code",
   "execution_count": null,
   "metadata": {},
   "outputs": [],
   "source": [
    "lm=sm.OLS(MIDexcess,ffs2['2010-02':]).fit()\n",
    "lm.summary()"
   ]
  },
  {
   "cell_type": "markdown",
   "metadata": {},
   "source": [
    "Thus, Factor analysis of MID index returns shows the 0.4 Size factor indicating the medium sized stocks for which index is made. It also shows positive value 0.1 for the Value factor. Note can be made of the decent alpha or 'manager rating' provided by the cap-weighted index of 13 basis points per month."
   ]
  },
  {
   "cell_type": "code",
   "execution_count": null,
   "metadata": {},
   "outputs": [],
   "source": [
    "vang=vang.pct_change().dropna()"
   ]
  },
  {
   "cell_type": "code",
   "execution_count": null,
   "metadata": {},
   "outputs": [],
   "source": [
    "vang['vangexcess']=vang['VANG midcap']-ffs1['2010-10':]['RF'].values"
   ]
  },
  {
   "cell_type": "code",
   "execution_count": null,
   "metadata": {},
   "outputs": [],
   "source": [
    "vang=vang.drop(['VANG midcap'],1)"
   ]
  },
  {
   "cell_type": "code",
   "execution_count": null,
   "metadata": {},
   "outputs": [],
   "source": [
    "rm=sm.OLS(vang,ffs2['2010-10':]).fit()\n",
    "rm.summary()"
   ]
  },
  {
   "cell_type": "markdown",
   "metadata": {},
   "source": [
    "The factor analysis of Vanguard ETF indicates the tilt of the fund towards 'big' size and growth factors when compared to the S&P index."
   ]
  },
  {
   "cell_type": "markdown",
   "metadata": {},
   "source": [
    "## Graphical comparison of wealth returns of the index and the fund."
   ]
  },
  {
   "cell_type": "markdown",
   "metadata": {},
   "source": [
    "As the plot indicates although the ETF closely tracks the index, it povides higher excess returns on a riskfree rate average of 2.5% over 2010-2019."
   ]
  },
  {
   "cell_type": "code",
   "execution_count": null,
   "metadata": {},
   "outputs": [],
   "source": [
    "MIDdf=MID['2010-10':]\n",
    "MIDdf.reindex(vang.index)"
   ]
  },
  {
   "cell_type": "code",
   "execution_count": null,
   "metadata": {},
   "outputs": [],
   "source": [
    "diag=pd.concat([vang,MIDdf],join='outer',axis=1)\n",
    "(1+diag).cumprod().plot(figsize=(12,6),title=\"Vanguard vs S&P MidCap 400\")"
   ]
  },
  {
   "cell_type": "markdown",
   "metadata": {},
   "source": [
    "## Comparison of different weighting schemes on the index and the Vanguard ETF over the time frame."
   ]
  },
  {
   "cell_type": "code",
   "execution_count": null,
   "metadata": {},
   "outputs": [],
   "source": [
    "oldrets=oldstocks.pct_change().dropna()\n"
   ]
  },
  {
   "cell_type": "markdown",
   "metadata": {},
   "source": [
    "The cap-weighted returns of S&P 400 MID are available on Yahoo-Finance."
   ]
  },
  {
   "cell_type": "code",
   "execution_count": null,
   "metadata": {},
   "outputs": [],
   "source": [
    "cwr=pd.DataFrame(MID['2010':]['400MID'],index=MID.index)\n",
    "cwr"
   ]
  },
  {
   "cell_type": "code",
   "execution_count": null,
   "metadata": {},
   "outputs": [],
   "source": [
    "cwr1=pd.Series(cwr['400MID'])\n",
    "cwr1.shape"
   ]
  },
  {
   "cell_type": "code",
   "execution_count": null,
   "metadata": {},
   "outputs": [],
   "source": []
  },
  {
   "cell_type": "code",
   "execution_count": null,
   "metadata": {},
   "outputs": [],
   "source": [
    "cwr.reindex(btr.index)\n",
    "cwr=cwr['2013':]"
   ]
  },
  {
   "cell_type": "markdown",
   "metadata": {},
   "source": [
    "Calculations are done using a rolling window of 36 months. "
   ]
  },
  {
   "cell_type": "markdown",
   "metadata": {},
   "source": [
    "This markdown cell is the original code but it takes a while to run and thus the dataframe was saved as CSV file."
   ]
  },
  {
   "cell_type": "markdown",
   "metadata": {},
   "source": [
    "ewr = erk.backtest_ws(oldrets, estimation_window=36, weighting=erk.weight_ew)\n",
    "mv_s_r = erk.backtest_ws(oldrets, estimation_window=36, weighting=erk.weight_gmv, cov_estimator=erk.sample_cov)\n",
    "mv_cc_r = erk.backtest_ws(oldrets, estimation_window=36, weighting=erk.weight_gmv, cov_estimator=erk.cc_cov)\n",
    "mv_sh_r = erk.backtest_ws(oldrets, estimation_window=36, weighting=erk.weight_gmv, cov_estimator=erk.shrinkage_cov, delta=0.5)\n",
    "btr = pd.DataFrame({\"GMV-Shrinkage\": mv_sh_r, \"EW\": ewr, \"GMV-Sample\": mv_s_r, \"GMV-ConstantCorr\": mv_cc_r,'CapWeighted':cwr})\n",
    "(1+btr).cumprod().plot(figsize=(12,6), title=\"Comparison of weighting schemes\")\n",
    "erk.summary_stats(btr.dropna())"
   ]
  },
  {
   "cell_type": "code",
   "execution_count": null,
   "metadata": {},
   "outputs": [],
   "source": [
    "btr=pd.read_csv(r\"D:\\notebooks_and_codem01_v02\\data\\btr.csv\",header=0, index_col=0,parse_dates=True)\n",
    "btr.index=pd.to_datetime(btr.index,format='%Y%M').to_period('M')\n",
    "btr=btr.drop(['Cap-Weighted'],1)\n",
    "btr['CapWeighted']=cwr"
   ]
  },
  {
   "cell_type": "code",
   "execution_count": 210,
   "metadata": {},
   "outputs": [
    {
     "data": {
      "text/html": [
       "<div>\n",
       "<style scoped>\n",
       "    .dataframe tbody tr th:only-of-type {\n",
       "        vertical-align: middle;\n",
       "    }\n",
       "\n",
       "    .dataframe tbody tr th {\n",
       "        vertical-align: top;\n",
       "    }\n",
       "\n",
       "    .dataframe thead th {\n",
       "        text-align: right;\n",
       "    }\n",
       "</style>\n",
       "<table border=\"1\" class=\"dataframe\">\n",
       "  <thead>\n",
       "    <tr style=\"text-align: right;\">\n",
       "      <th></th>\n",
       "      <th>Annualized Return</th>\n",
       "      <th>Annualized Vol</th>\n",
       "      <th>Skewness</th>\n",
       "      <th>Kurtosis</th>\n",
       "      <th>Cornish-Fisher VaR (5%)</th>\n",
       "      <th>Historic CVaR (5%)</th>\n",
       "      <th>Sharpe Ratio</th>\n",
       "      <th>Max Drawdown</th>\n",
       "    </tr>\n",
       "  </thead>\n",
       "  <tbody>\n",
       "    <tr>\n",
       "      <td>EW</td>\n",
       "      <td>0.138910</td>\n",
       "      <td>0.113336</td>\n",
       "      <td>-0.409969</td>\n",
       "      <td>4.176251</td>\n",
       "      <td>0.044982</td>\n",
       "      <td>0.065986</td>\n",
       "      <td>0.935214</td>\n",
       "      <td>-0.151580</td>\n",
       "    </tr>\n",
       "    <tr>\n",
       "      <td>GMV-Sample</td>\n",
       "      <td>0.115787</td>\n",
       "      <td>0.091479</td>\n",
       "      <td>0.334100</td>\n",
       "      <td>4.389457</td>\n",
       "      <td>0.030382</td>\n",
       "      <td>0.043644</td>\n",
       "      <td>0.912678</td>\n",
       "      <td>-0.100962</td>\n",
       "    </tr>\n",
       "    <tr>\n",
       "      <td>GMV-CC</td>\n",
       "      <td>0.137005</td>\n",
       "      <td>0.077972</td>\n",
       "      <td>-0.079221</td>\n",
       "      <td>3.491706</td>\n",
       "      <td>0.026076</td>\n",
       "      <td>0.039559</td>\n",
       "      <td>1.335706</td>\n",
       "      <td>-0.059744</td>\n",
       "    </tr>\n",
       "    <tr>\n",
       "      <td>GMV-Shrinkage</td>\n",
       "      <td>0.135569</td>\n",
       "      <td>0.078095</td>\n",
       "      <td>-0.091322</td>\n",
       "      <td>3.675594</td>\n",
       "      <td>0.026234</td>\n",
       "      <td>0.040582</td>\n",
       "      <td>1.315701</td>\n",
       "      <td>-0.058007</td>\n",
       "    </tr>\n",
       "    <tr>\n",
       "      <td>CapWeighted</td>\n",
       "      <td>0.105794</td>\n",
       "      <td>0.132749</td>\n",
       "      <td>-0.565937</td>\n",
       "      <td>4.075941</td>\n",
       "      <td>0.058582</td>\n",
       "      <td>0.081496</td>\n",
       "      <td>0.555567</td>\n",
       "      <td>-0.186658</td>\n",
       "    </tr>\n",
       "    <tr>\n",
       "      <td>vang</td>\n",
       "      <td>0.112467</td>\n",
       "      <td>0.142534</td>\n",
       "      <td>-0.463988</td>\n",
       "      <td>3.690507</td>\n",
       "      <td>0.062172</td>\n",
       "      <td>0.080835</td>\n",
       "      <td>0.562971</td>\n",
       "      <td>-0.189554</td>\n",
       "    </tr>\n",
       "  </tbody>\n",
       "</table>\n",
       "</div>"
      ],
      "text/plain": [
       "               Annualized Return  Annualized Vol  Skewness  Kurtosis  \\\n",
       "EW                      0.138910        0.113336 -0.409969  4.176251   \n",
       "GMV-Sample              0.115787        0.091479  0.334100  4.389457   \n",
       "GMV-CC                  0.137005        0.077972 -0.079221  3.491706   \n",
       "GMV-Shrinkage           0.135569        0.078095 -0.091322  3.675594   \n",
       "CapWeighted             0.105794        0.132749 -0.565937  4.075941   \n",
       "vang                    0.112467        0.142534 -0.463988  3.690507   \n",
       "\n",
       "               Cornish-Fisher VaR (5%)  Historic CVaR (5%)  Sharpe Ratio  \\\n",
       "EW                            0.044982            0.065986      0.935214   \n",
       "GMV-Sample                    0.030382            0.043644      0.912678   \n",
       "GMV-CC                        0.026076            0.039559      1.335706   \n",
       "GMV-Shrinkage                 0.026234            0.040582      1.315701   \n",
       "CapWeighted                   0.058582            0.081496      0.555567   \n",
       "vang                          0.062172            0.080835      0.562971   \n",
       "\n",
       "               Max Drawdown  \n",
       "EW                -0.151580  \n",
       "GMV-Sample        -0.100962  \n",
       "GMV-CC            -0.059744  \n",
       "GMV-Shrinkage     -0.058007  \n",
       "CapWeighted       -0.186658  \n",
       "vang              -0.189554  "
      ]
     },
     "execution_count": 210,
     "metadata": {},
     "output_type": "execute_result"
    }
   ],
   "source": [
    "erk.summary_stats(btr.dropna())"
   ]
  },
  {
   "cell_type": "code",
   "execution_count": null,
   "metadata": {},
   "outputs": [],
   "source": [
    "(1+btr[['CapWeighted','EW','GMV-CC']]).cumprod().plot(figsize=(12,6), title=\"Comparison of weighting schemes\")"
   ]
  },
  {
   "cell_type": "markdown",
   "metadata": {},
   "source": [
    "As expected the GMV portfolios far outperform the Cap-weighted portfolios and the GMV using Constant Correlation outperforms all in terms of Sharpe Ratio. This is important in the sense that the GMV-CC portfolio effectively reduces the parameters, i.e., correlations between the stocks, to provide better calculation and data fitting when large number of stocks are involved."
   ]
  },
  {
   "cell_type": "code",
   "execution_count": null,
   "metadata": {},
   "outputs": [],
   "source": [
    "vang13=vang['2013':]\n",
    "btr['vang']=vang13\n",
    "\n",
    "(1+btr[['vang','GMV-CC','CapWeighted','EW']]).cumprod().plot(figsize=(12,6), title=\"Comparison of weighting schemes\")\n"
   ]
  },
  {
   "cell_type": "code",
   "execution_count": null,
   "metadata": {},
   "outputs": [],
   "source": [
    "erk.summary_stats(btr.dropna())"
   ]
  },
  {
   "cell_type": "markdown",
   "metadata": {},
   "source": [
    "## Vanguard ETF outperforms S&P 400 index but falls short of the ideal portfolio using Global Minimum Variance."
   ]
  },
  {
   "cell_type": "markdown",
   "metadata": {},
   "source": [
    "Further, returns of the index are analysed from  2014-2019 with additional returns data of companies that were listed between 2010 and 2014."
   ]
  },
  {
   "cell_type": "code",
   "execution_count": null,
   "metadata": {},
   "outputs": [],
   "source": [
    "newrets=newstocks1.pct_change().dropna()\n",
    "newrets"
   ]
  },
  {
   "cell_type": "code",
   "execution_count": null,
   "metadata": {},
   "outputs": [],
   "source": [
    "vang2=vang['2014-09':]\n"
   ]
  },
  {
   "cell_type": "code",
   "execution_count": null,
   "metadata": {},
   "outputs": [],
   "source": [
    "mv_cc_r1 = erk.backtest_ws(newrets, estimation_window=12, weighting=erk.weight_gmv, cov_estimator=erk.cc_cov)\n",
    "mv_sh_r1 = erk.backtest_ws(newrets, estimation_window=12, weighting=erk.weight_gmv, cov_estimator=erk.shrinkage_cov, delta=0.5)\n",
    "ew2= erk.backtest_ws(newrets, estimation_window=12, weighting=erk.weight_ew)\n",
    "btr1 = pd.DataFrame({\"GMV-Shrinkage\": mv_sh_r1, \"GMV-CC\": mv_cc_r1,'Vang':vang2,'EW':ew2})\n"
   ]
  },
  {
   "cell_type": "code",
   "execution_count": null,
   "metadata": {},
   "outputs": [],
   "source": [
    "(1+btr1).cumprod().plot(figsize=(12,6), title=\"Comparison of weighting schemes 2015-2019\")\n",
    "erk.summary_stats(btr1.dropna())"
   ]
  },
  {
   "cell_type": "markdown",
   "metadata": {},
   "source": [
    "As the summary statistics indicate, Vanguard ETF provides a high rate of return but considerably more volatility than the ideal GMV portfolios. Thus, it is doubtful whether the newly listed companies have any major impact on the weighting of the portfolio."
   ]
  },
  {
   "cell_type": "markdown",
   "metadata": {},
   "source": [
    "## Sharpe style analysis of the Vanguard ETF in reference to 12 industry portfolio of FamaFrench benchmark."
   ]
  },
  {
   "cell_type": "code",
   "execution_count": null,
   "metadata": {},
   "outputs": [],
   "source": [
    "ind12 = pd.read_csv(r\"D:\\downloads\\12_Industry_Portfolios_CSV\\12_Industry_Portfolios.CSV\", header=0, index_col=0, na_values=-99.99)/100\n",
    "\n",
    "ind12.index = pd.to_datetime(ind12.index, format=\"%Y%m\").to_period('M')\n",
    "ind12.columns = ind12.columns.str.strip()\n"
   ]
  },
  {
   "cell_type": "code",
   "execution_count": null,
   "metadata": {},
   "outputs": [],
   "source": [
    "indvang=ind12['2010-10':'2019']"
   ]
  },
  {
   "cell_type": "code",
   "execution_count": null,
   "metadata": {},
   "outputs": [],
   "source": [
    "vangst=pd.read_csv(r\"D:\\notebooks_and_codem01_v02\\data\\vang.csv\",header=0,index_col=0,parse_dates=True)\n",
    "vangst.index=vangrets"
   ]
  },
  {
   "cell_type": "code",
   "execution_count": 206,
   "metadata": {},
   "outputs": [],
   "source": [
    "vangstyle=erk.style_analysis(vangst['VANG midcap'],indvang)*100\n"
   ]
  },
  {
   "cell_type": "code",
   "execution_count": 207,
   "metadata": {},
   "outputs": [
    {
     "data": {
      "text/plain": [
       "<matplotlib.axes._subplots.AxesSubplot at 0x1fbba632fc8>"
      ]
     },
     "execution_count": 207,
     "metadata": {},
     "output_type": "execute_result"
    },
    {
     "data": {
      "image/png": "[encoded data removed]",
      "text/plain": [
       "<Figure size 432x288 with 1 Axes>"
      ]
     },
     "metadata": {
      "needs_background": "light"
     },
     "output_type": "display_data"
    }
   ],
   "source": [
    "vangstyle.sort_values(ascending=False).head(12).plot.bar()"
   ]
  },
  {
   "cell_type": "markdown",
   "metadata": {},
   "source": [
    "As seen on Vanguard's official site, the holdings of the IVOO ETF are highest for industrials and information technology followed by financials and lowest are energy and communication. The chart obtained by style analysis shows a similar holdings structure."
   ]
  },
  {
   "cell_type": "markdown",
   "metadata": {},
   "source": [
    "## Max Sharpe Ratio Portfolio of the S&P 400 stocks"
   ]
  },
  {
   "cell_type": "code",
   "execution_count": 209,
   "metadata": {},
   "outputs": [
    {
     "data": {
      "text/html": [
       "<div>\n",
       "<style scoped>\n",
       "    .dataframe tbody tr th:only-of-type {\n",
       "        vertical-align: middle;\n",
       "    }\n",
       "\n",
       "    .dataframe tbody tr th {\n",
       "        vertical-align: top;\n",
       "    }\n",
       "\n",
       "    .dataframe thead th {\n",
       "        text-align: right;\n",
       "    }\n",
       "</style>\n",
       "<table border=\"1\" class=\"dataframe\">\n",
       "  <thead>\n",
       "    <tr style=\"text-align: right;\">\n",
       "      <th></th>\n",
       "      <th>Annualized Return</th>\n",
       "      <th>Annualized Vol</th>\n",
       "      <th>Skewness</th>\n",
       "      <th>Kurtosis</th>\n",
       "      <th>Cornish-Fisher VaR (5%)</th>\n",
       "      <th>Historic CVaR (5%)</th>\n",
       "      <th>Sharpe Ratio</th>\n",
       "      <th>Max Drawdown</th>\n",
       "    </tr>\n",
       "  </thead>\n",
       "  <tbody>\n",
       "    <tr>\n",
       "      <td>0</td>\n",
       "      <td>0.347</td>\n",
       "      <td>0.155198</td>\n",
       "      <td>-0.322929</td>\n",
       "      <td>3.924895</td>\n",
       "      <td>0.050444</td>\n",
       "      <td>0.080078</td>\n",
       "      <td>1.988339</td>\n",
       "      <td>-0.171577</td>\n",
       "    </tr>\n",
       "  </tbody>\n",
       "</table>\n",
       "</div>"
      ],
      "text/plain": [
       "   Annualized Return  Annualized Vol  Skewness  Kurtosis  \\\n",
       "0              0.347        0.155198 -0.322929  3.924895   \n",
       "\n",
       "   Cornish-Fisher VaR (5%)  Historic CVaR (5%)  Sharpe Ratio  Max Drawdown  \n",
       "0                 0.050444            0.080078      1.988339     -0.171577  "
      ]
     },
     "execution_count": 209,
     "metadata": {},
     "output_type": "execute_result"
    }
   ],
   "source": [
    "er=erk.annualize_rets(oldrets,12)\n",
    "wmsr=erk.msr(0.025,er,cov1)\n",
    "#Calculating weights of Max Sharpe Ratio Portfolio using quadraticc optimizer \n",
    "#and converting the series into a dataframe of 120 rows of weights to multiply with percent returns.\n",
    "wmsrdf=pd.DataFrame(wmsr)\n",
    "wmsrdf=wmsrdf.T\n",
    "msrw=pd.DataFrame(np.repeat(wmsrdf.values,120,axis=0),index=oldrets.index,columns=oldrets.columns)\n",
    "msr_rets=msrw*oldrets\n",
    "msrets1=msr_rets.sum(axis=1)\n",
    "\n",
    "erk.summary_stats(pd.DataFrame(msrets1))"
   ]
  },
  {
   "cell_type": "code",
   "execution_count": 211,
   "metadata": {},
   "outputs": [
    {
     "data": {
      "text/plain": [
       "<matplotlib.axes._subplots.AxesSubplot at 0x1fbba663908>"
      ]
     },
     "execution_count": 211,
     "metadata": {},
     "output_type": "execute_result"
    },
    {
     "data": {
      "image/png": "[encoded data removed]",
      "text/plain": [
       "<Figure size 432x288 with 1 Axes>"
      ]
     },
     "metadata": {
      "needs_background": "light"
     },
     "output_type": "display_data"
    }
   ],
   "source": [
    "wmsrdf.columns=oldrets.columns\n",
    "wmsrdf.T[0].sort_values(ascending=False).head(15).plot.bar()"
   ]
  },
  {
   "cell_type": "markdown",
   "metadata": {},
   "source": [
    "As can be inferred from summary statistics, the MSR portfolio has highest return of all weighting schemes used previously. The chart also shows how some of the stocks with high returns such as TDY,FICO,TYL,POOL,WTRG,RNR are also on Vanguard's top ten holdings list."
   ]
  },
  {
   "cell_type": "markdown",
   "metadata": {},
   "source": [
    "Bond portfolio is modeled using 10 year zero coupon bond. The interest rates are modeled using CIR(Cox-Ingersoll-Ross) model of annual averages. The annual average interest rates of 10-year US treasury bills for past 10 years are taken as following:\n",
    "2019: 2.14 ,\n",
    "2018: 2.91 ,\n",
    "2017: 2.33 ,\n",
    "2016: 1.84 ,\n",
    "2015: 2.14 ,\n",
    "2014: 2.54 ,\n",
    "2013: 2.35 ,\n",
    "2012: 1.80 ,\n",
    "2011: 2.78 ,\n",
    "2010: 3.22"
   ]
  },
  {
   "cell_type": "markdown",
   "metadata": {},
   "source": [
    "## Asset-Liability Management simulation for 2015-2019"
   ]
  },
  {
   "cell_type": "code",
   "execution_count": 212,
   "metadata": {},
   "outputs": [
    {
     "name": "stdout",
     "output_type": "stream",
     "text": [
      "The autoreload extension is already loaded. To reload it, use:\n",
      "  %reload_ext autoreload\n"
     ]
    }
   ],
   "source": [
    "%load_ext autoreload\n",
    "%autoreload 2\n",
    "import edhec_risk_kit_129 as erk1\n",
    "\n",
    "rr=0.025\n",
    "\n",
    "zc_prices=pd.DataFrame()\n",
    "rates=pd.DataFrame()"
   ]
  },
  {
   "cell_type": "code",
   "execution_count": 213,
   "metadata": {},
   "outputs": [
    {
     "data": {
      "text/html": [
       "<div>\n",
       "<style scoped>\n",
       "    .dataframe tbody tr th:only-of-type {\n",
       "        vertical-align: middle;\n",
       "    }\n",
       "\n",
       "    .dataframe tbody tr th {\n",
       "        vertical-align: top;\n",
       "    }\n",
       "\n",
       "    .dataframe thead th {\n",
       "        text-align: right;\n",
       "    }\n",
       "</style>\n",
       "<table border=\"1\" class=\"dataframe\">\n",
       "  <thead>\n",
       "    <tr style=\"text-align: right;\">\n",
       "      <th></th>\n",
       "      <th>0</th>\n",
       "      <th>1</th>\n",
       "      <th>2</th>\n",
       "      <th>3</th>\n",
       "      <th>4</th>\n",
       "      <th>5</th>\n",
       "      <th>6</th>\n",
       "      <th>7</th>\n",
       "      <th>8</th>\n",
       "      <th>9</th>\n",
       "      <th>...</th>\n",
       "      <th>990</th>\n",
       "      <th>991</th>\n",
       "      <th>992</th>\n",
       "      <th>993</th>\n",
       "      <th>994</th>\n",
       "      <th>995</th>\n",
       "      <th>996</th>\n",
       "      <th>997</th>\n",
       "      <th>998</th>\n",
       "      <th>999</th>\n",
       "    </tr>\n",
       "  </thead>\n",
       "  <tbody>\n",
       "    <tr>\n",
       "      <td>0</td>\n",
       "      <td>0.858631</td>\n",
       "      <td>0.858631</td>\n",
       "      <td>0.858631</td>\n",
       "      <td>0.858631</td>\n",
       "      <td>0.858631</td>\n",
       "      <td>0.858631</td>\n",
       "      <td>0.858631</td>\n",
       "      <td>0.858631</td>\n",
       "      <td>0.858631</td>\n",
       "      <td>0.858631</td>\n",
       "      <td>...</td>\n",
       "      <td>0.858631</td>\n",
       "      <td>0.858631</td>\n",
       "      <td>0.858631</td>\n",
       "      <td>0.858631</td>\n",
       "      <td>0.858631</td>\n",
       "      <td>0.858631</td>\n",
       "      <td>0.858631</td>\n",
       "      <td>0.858631</td>\n",
       "      <td>0.858631</td>\n",
       "      <td>0.858631</td>\n",
       "    </tr>\n",
       "    <tr>\n",
       "      <td>1</td>\n",
       "      <td>0.864568</td>\n",
       "      <td>0.878653</td>\n",
       "      <td>0.870329</td>\n",
       "      <td>0.840942</td>\n",
       "      <td>0.854822</td>\n",
       "      <td>0.864802</td>\n",
       "      <td>0.872709</td>\n",
       "      <td>0.866905</td>\n",
       "      <td>0.854551</td>\n",
       "      <td>0.872454</td>\n",
       "      <td>...</td>\n",
       "      <td>0.855904</td>\n",
       "      <td>0.853260</td>\n",
       "      <td>0.853447</td>\n",
       "      <td>0.855192</td>\n",
       "      <td>0.850950</td>\n",
       "      <td>0.853165</td>\n",
       "      <td>0.863613</td>\n",
       "      <td>0.850588</td>\n",
       "      <td>0.845881</td>\n",
       "      <td>0.864987</td>\n",
       "    </tr>\n",
       "    <tr>\n",
       "      <td>2</td>\n",
       "      <td>0.876155</td>\n",
       "      <td>0.884650</td>\n",
       "      <td>0.861412</td>\n",
       "      <td>0.828328</td>\n",
       "      <td>0.831958</td>\n",
       "      <td>0.856059</td>\n",
       "      <td>0.869437</td>\n",
       "      <td>0.874904</td>\n",
       "      <td>0.854284</td>\n",
       "      <td>0.872702</td>\n",
       "      <td>...</td>\n",
       "      <td>0.849828</td>\n",
       "      <td>0.832791</td>\n",
       "      <td>0.848074</td>\n",
       "      <td>0.859927</td>\n",
       "      <td>0.845310</td>\n",
       "      <td>0.871941</td>\n",
       "      <td>0.857393</td>\n",
       "      <td>0.850468</td>\n",
       "      <td>0.835931</td>\n",
       "      <td>0.847197</td>\n",
       "    </tr>\n",
       "    <tr>\n",
       "      <td>3</td>\n",
       "      <td>0.883049</td>\n",
       "      <td>0.889633</td>\n",
       "      <td>0.871237</td>\n",
       "      <td>0.817517</td>\n",
       "      <td>0.852888</td>\n",
       "      <td>0.848636</td>\n",
       "      <td>0.887052</td>\n",
       "      <td>0.875003</td>\n",
       "      <td>0.845038</td>\n",
       "      <td>0.877959</td>\n",
       "      <td>...</td>\n",
       "      <td>0.853689</td>\n",
       "      <td>0.842532</td>\n",
       "      <td>0.829184</td>\n",
       "      <td>0.860572</td>\n",
       "      <td>0.836661</td>\n",
       "      <td>0.879928</td>\n",
       "      <td>0.862563</td>\n",
       "      <td>0.859362</td>\n",
       "      <td>0.833628</td>\n",
       "      <td>0.842437</td>\n",
       "    </tr>\n",
       "    <tr>\n",
       "      <td>4</td>\n",
       "      <td>0.883269</td>\n",
       "      <td>0.890045</td>\n",
       "      <td>0.868169</td>\n",
       "      <td>0.814981</td>\n",
       "      <td>0.848956</td>\n",
       "      <td>0.838123</td>\n",
       "      <td>0.888546</td>\n",
       "      <td>0.883058</td>\n",
       "      <td>0.845993</td>\n",
       "      <td>0.889837</td>\n",
       "      <td>...</td>\n",
       "      <td>0.862937</td>\n",
       "      <td>0.858786</td>\n",
       "      <td>0.832056</td>\n",
       "      <td>0.842870</td>\n",
       "      <td>0.844401</td>\n",
       "      <td>0.883041</td>\n",
       "      <td>0.857891</td>\n",
       "      <td>0.873084</td>\n",
       "      <td>0.849838</td>\n",
       "      <td>0.853912</td>\n",
       "    </tr>\n",
       "    <tr>\n",
       "      <td>...</td>\n",
       "      <td>...</td>\n",
       "      <td>...</td>\n",
       "      <td>...</td>\n",
       "      <td>...</td>\n",
       "      <td>...</td>\n",
       "      <td>...</td>\n",
       "      <td>...</td>\n",
       "      <td>...</td>\n",
       "      <td>...</td>\n",
       "      <td>...</td>\n",
       "      <td>...</td>\n",
       "      <td>...</td>\n",
       "      <td>...</td>\n",
       "      <td>...</td>\n",
       "      <td>...</td>\n",
       "      <td>...</td>\n",
       "      <td>...</td>\n",
       "      <td>...</td>\n",
       "      <td>...</td>\n",
       "      <td>...</td>\n",
       "      <td>...</td>\n",
       "    </tr>\n",
       "    <tr>\n",
       "      <td>56</td>\n",
       "      <td>0.997648</td>\n",
       "      <td>0.992009</td>\n",
       "      <td>0.995273</td>\n",
       "      <td>0.972161</td>\n",
       "      <td>0.992096</td>\n",
       "      <td>0.985953</td>\n",
       "      <td>0.995621</td>\n",
       "      <td>0.985322</td>\n",
       "      <td>0.989997</td>\n",
       "      <td>0.990726</td>\n",
       "      <td>...</td>\n",
       "      <td>0.985418</td>\n",
       "      <td>0.984263</td>\n",
       "      <td>0.994327</td>\n",
       "      <td>0.982333</td>\n",
       "      <td>0.975342</td>\n",
       "      <td>0.994533</td>\n",
       "      <td>0.992563</td>\n",
       "      <td>0.988823</td>\n",
       "      <td>0.990821</td>\n",
       "      <td>0.988647</td>\n",
       "    </tr>\n",
       "    <tr>\n",
       "      <td>57</td>\n",
       "      <td>0.998267</td>\n",
       "      <td>0.993797</td>\n",
       "      <td>0.995859</td>\n",
       "      <td>0.979525</td>\n",
       "      <td>0.993132</td>\n",
       "      <td>0.989746</td>\n",
       "      <td>0.997017</td>\n",
       "      <td>0.989998</td>\n",
       "      <td>0.992507</td>\n",
       "      <td>0.992532</td>\n",
       "      <td>...</td>\n",
       "      <td>0.989504</td>\n",
       "      <td>0.988465</td>\n",
       "      <td>0.995411</td>\n",
       "      <td>0.987254</td>\n",
       "      <td>0.980495</td>\n",
       "      <td>0.995782</td>\n",
       "      <td>0.994517</td>\n",
       "      <td>0.991406</td>\n",
       "      <td>0.993092</td>\n",
       "      <td>0.990965</td>\n",
       "    </tr>\n",
       "    <tr>\n",
       "      <td>58</td>\n",
       "      <td>0.998628</td>\n",
       "      <td>0.995701</td>\n",
       "      <td>0.997684</td>\n",
       "      <td>0.985864</td>\n",
       "      <td>0.995867</td>\n",
       "      <td>0.993311</td>\n",
       "      <td>0.997902</td>\n",
       "      <td>0.993975</td>\n",
       "      <td>0.995356</td>\n",
       "      <td>0.995244</td>\n",
       "      <td>...</td>\n",
       "      <td>0.993711</td>\n",
       "      <td>0.993099</td>\n",
       "      <td>0.996626</td>\n",
       "      <td>0.990932</td>\n",
       "      <td>0.986456</td>\n",
       "      <td>0.997333</td>\n",
       "      <td>0.996638</td>\n",
       "      <td>0.993787</td>\n",
       "      <td>0.995161</td>\n",
       "      <td>0.994082</td>\n",
       "    </tr>\n",
       "    <tr>\n",
       "      <td>59</td>\n",
       "      <td>0.999379</td>\n",
       "      <td>0.997598</td>\n",
       "      <td>0.998778</td>\n",
       "      <td>0.992974</td>\n",
       "      <td>0.997750</td>\n",
       "      <td>0.996683</td>\n",
       "      <td>0.999205</td>\n",
       "      <td>0.996507</td>\n",
       "      <td>0.997676</td>\n",
       "      <td>0.997490</td>\n",
       "      <td>...</td>\n",
       "      <td>0.996760</td>\n",
       "      <td>0.996915</td>\n",
       "      <td>0.998156</td>\n",
       "      <td>0.995532</td>\n",
       "      <td>0.993137</td>\n",
       "      <td>0.998585</td>\n",
       "      <td>0.998215</td>\n",
       "      <td>0.997106</td>\n",
       "      <td>0.997563</td>\n",
       "      <td>0.997168</td>\n",
       "    </tr>\n",
       "    <tr>\n",
       "      <td>60</td>\n",
       "      <td>1.000000</td>\n",
       "      <td>1.000000</td>\n",
       "      <td>1.000000</td>\n",
       "      <td>1.000000</td>\n",
       "      <td>1.000000</td>\n",
       "      <td>1.000000</td>\n",
       "      <td>1.000000</td>\n",
       "      <td>1.000000</td>\n",
       "      <td>1.000000</td>\n",
       "      <td>1.000000</td>\n",
       "      <td>...</td>\n",
       "      <td>1.000000</td>\n",
       "      <td>1.000000</td>\n",
       "      <td>1.000000</td>\n",
       "      <td>1.000000</td>\n",
       "      <td>1.000000</td>\n",
       "      <td>1.000000</td>\n",
       "      <td>1.000000</td>\n",
       "      <td>1.000000</td>\n",
       "      <td>1.000000</td>\n",
       "      <td>1.000000</td>\n",
       "    </tr>\n",
       "  </tbody>\n",
       "</table>\n",
       "<p>61 rows × 1000 columns</p>\n",
       "</div>"
      ],
      "text/plain": [
       "         0         1         2         3         4         5         6    \\\n",
       "0   0.858631  0.858631  0.858631  0.858631  0.858631  0.858631  0.858631   \n",
       "1   0.864568  0.878653  0.870329  0.840942  0.854822  0.864802  0.872709   \n",
       "2   0.876155  0.884650  0.861412  0.828328  0.831958  0.856059  0.869437   \n",
       "3   0.883049  0.889633  0.871237  0.817517  0.852888  0.848636  0.887052   \n",
       "4   0.883269  0.890045  0.868169  0.814981  0.848956  0.838123  0.888546   \n",
       "..       ...       ...       ...       ...       ...       ...       ...   \n",
       "56  0.997648  0.992009  0.995273  0.972161  0.992096  0.985953  0.995621   \n",
       "57  0.998267  0.993797  0.995859  0.979525  0.993132  0.989746  0.997017   \n",
       "58  0.998628  0.995701  0.997684  0.985864  0.995867  0.993311  0.997902   \n",
       "59  0.999379  0.997598  0.998778  0.992974  0.997750  0.996683  0.999205   \n",
       "60  1.000000  1.000000  1.000000  1.000000  1.000000  1.000000  1.000000   \n",
       "\n",
       "         7         8         9    ...       990       991       992       993  \\\n",
       "0   0.858631  0.858631  0.858631  ...  0.858631  0.858631  0.858631  0.858631   \n",
       "1   0.866905  0.854551  0.872454  ...  0.855904  0.853260  0.853447  0.855192   \n",
       "2   0.874904  0.854284  0.872702  ...  0.849828  0.832791  0.848074  0.859927   \n",
       "3   0.875003  0.845038  0.877959  ...  0.853689  0.842532  0.829184  0.860572   \n",
       "4   0.883058  0.845993  0.889837  ...  0.862937  0.858786  0.832056  0.842870   \n",
       "..       ...       ...       ...  ...       ...       ...       ...       ...   \n",
       "56  0.985322  0.989997  0.990726  ...  0.985418  0.984263  0.994327  0.982333   \n",
       "57  0.989998  0.992507  0.992532  ...  0.989504  0.988465  0.995411  0.987254   \n",
       "58  0.993975  0.995356  0.995244  ...  0.993711  0.993099  0.996626  0.990932   \n",
       "59  0.996507  0.997676  0.997490  ...  0.996760  0.996915  0.998156  0.995532   \n",
       "60  1.000000  1.000000  1.000000  ...  1.000000  1.000000  1.000000  1.000000   \n",
       "\n",
       "         994       995       996       997       998       999  \n",
       "0   0.858631  0.858631  0.858631  0.858631  0.858631  0.858631  \n",
       "1   0.850950  0.853165  0.863613  0.850588  0.845881  0.864987  \n",
       "2   0.845310  0.871941  0.857393  0.850468  0.835931  0.847197  \n",
       "3   0.836661  0.879928  0.862563  0.859362  0.833628  0.842437  \n",
       "4   0.844401  0.883041  0.857891  0.873084  0.849838  0.853912  \n",
       "..       ...       ...       ...       ...       ...       ...  \n",
       "56  0.975342  0.994533  0.992563  0.988823  0.990821  0.988647  \n",
       "57  0.980495  0.995782  0.994517  0.991406  0.993092  0.990965  \n",
       "58  0.986456  0.997333  0.996638  0.993787  0.995161  0.994082  \n",
       "59  0.993137  0.998585  0.998215  0.997106  0.997563  0.997168  \n",
       "60  1.000000  1.000000  1.000000  1.000000  1.000000  1.000000  \n",
       "\n",
       "[61 rows x 1000 columns]"
      ]
     },
     "execution_count": 213,
     "metadata": {},
     "output_type": "execute_result"
    }
   ],
   "source": [
    "rates,zc_prices = erk1.cir(5,1000, b=0.025, r_0 = 0.032)\n",
    "zc_prices"
   ]
  },
  {
   "cell_type": "code",
   "execution_count": 233,
   "metadata": {},
   "outputs": [
    {
     "data": {
      "text/html": [
       "<div>\n",
       "<style scoped>\n",
       "    .dataframe tbody tr th:only-of-type {\n",
       "        vertical-align: middle;\n",
       "    }\n",
       "\n",
       "    .dataframe tbody tr th {\n",
       "        vertical-align: top;\n",
       "    }\n",
       "\n",
       "    .dataframe thead th {\n",
       "        text-align: right;\n",
       "    }\n",
       "</style>\n",
       "<table border=\"1\" class=\"dataframe\">\n",
       "  <thead>\n",
       "    <tr style=\"text-align: right;\">\n",
       "      <th></th>\n",
       "      <th>0</th>\n",
       "      <th>1</th>\n",
       "      <th>2</th>\n",
       "      <th>3</th>\n",
       "      <th>4</th>\n",
       "      <th>5</th>\n",
       "      <th>6</th>\n",
       "      <th>7</th>\n",
       "      <th>8</th>\n",
       "      <th>9</th>\n",
       "      <th>...</th>\n",
       "      <th>990</th>\n",
       "      <th>991</th>\n",
       "      <th>992</th>\n",
       "      <th>993</th>\n",
       "      <th>994</th>\n",
       "      <th>995</th>\n",
       "      <th>996</th>\n",
       "      <th>997</th>\n",
       "      <th>998</th>\n",
       "      <th>999</th>\n",
       "    </tr>\n",
       "  </thead>\n",
       "  <tbody>\n",
       "    <tr>\n",
       "      <td>2</td>\n",
       "      <td>0.013403</td>\n",
       "      <td>0.006825</td>\n",
       "      <td>-0.010245</td>\n",
       "      <td>-0.015000</td>\n",
       "      <td>-0.026748</td>\n",
       "      <td>-0.010109</td>\n",
       "      <td>-0.003750</td>\n",
       "      <td>0.009227</td>\n",
       "      <td>-0.000312</td>\n",
       "      <td>0.000284</td>\n",
       "      <td>...</td>\n",
       "      <td>-0.007100</td>\n",
       "      <td>-0.023990</td>\n",
       "      <td>-0.006296</td>\n",
       "      <td>0.005537</td>\n",
       "      <td>-0.006628</td>\n",
       "      <td>0.022008</td>\n",
       "      <td>-0.007202</td>\n",
       "      <td>-0.000141</td>\n",
       "      <td>-0.011762</td>\n",
       "      <td>-0.020567</td>\n",
       "    </tr>\n",
       "    <tr>\n",
       "      <td>3</td>\n",
       "      <td>0.007868</td>\n",
       "      <td>0.005633</td>\n",
       "      <td>0.011405</td>\n",
       "      <td>-0.013051</td>\n",
       "      <td>0.025158</td>\n",
       "      <td>-0.008671</td>\n",
       "      <td>0.020260</td>\n",
       "      <td>0.000114</td>\n",
       "      <td>-0.010823</td>\n",
       "      <td>0.006024</td>\n",
       "      <td>...</td>\n",
       "      <td>0.004544</td>\n",
       "      <td>0.011697</td>\n",
       "      <td>-0.022274</td>\n",
       "      <td>0.000750</td>\n",
       "      <td>-0.010232</td>\n",
       "      <td>0.009160</td>\n",
       "      <td>0.006031</td>\n",
       "      <td>0.010458</td>\n",
       "      <td>-0.002756</td>\n",
       "      <td>-0.005619</td>\n",
       "    </tr>\n",
       "    <tr>\n",
       "      <td>4</td>\n",
       "      <td>0.000249</td>\n",
       "      <td>0.000463</td>\n",
       "      <td>-0.003522</td>\n",
       "      <td>-0.003102</td>\n",
       "      <td>-0.004610</td>\n",
       "      <td>-0.012388</td>\n",
       "      <td>0.001685</td>\n",
       "      <td>0.009206</td>\n",
       "      <td>0.001130</td>\n",
       "      <td>0.013529</td>\n",
       "      <td>...</td>\n",
       "      <td>0.010833</td>\n",
       "      <td>0.019292</td>\n",
       "      <td>0.003464</td>\n",
       "      <td>-0.020570</td>\n",
       "      <td>0.009252</td>\n",
       "      <td>0.003538</td>\n",
       "      <td>-0.005416</td>\n",
       "      <td>0.015968</td>\n",
       "      <td>0.019446</td>\n",
       "      <td>0.013621</td>\n",
       "    </tr>\n",
       "    <tr>\n",
       "      <td>5</td>\n",
       "      <td>0.015407</td>\n",
       "      <td>-0.002905</td>\n",
       "      <td>0.006392</td>\n",
       "      <td>-0.002680</td>\n",
       "      <td>-0.004514</td>\n",
       "      <td>-0.003287</td>\n",
       "      <td>0.016639</td>\n",
       "      <td>-0.005869</td>\n",
       "      <td>0.012220</td>\n",
       "      <td>-0.008339</td>\n",
       "      <td>...</td>\n",
       "      <td>0.006762</td>\n",
       "      <td>0.016743</td>\n",
       "      <td>0.014307</td>\n",
       "      <td>0.007403</td>\n",
       "      <td>0.006451</td>\n",
       "      <td>-0.007592</td>\n",
       "      <td>-0.001874</td>\n",
       "      <td>0.005927</td>\n",
       "      <td>0.005770</td>\n",
       "      <td>0.006771</td>\n",
       "    </tr>\n",
       "    <tr>\n",
       "      <td>6</td>\n",
       "      <td>0.016797</td>\n",
       "      <td>-0.001390</td>\n",
       "      <td>0.004231</td>\n",
       "      <td>-0.010629</td>\n",
       "      <td>0.033927</td>\n",
       "      <td>0.025990</td>\n",
       "      <td>0.018602</td>\n",
       "      <td>0.001068</td>\n",
       "      <td>0.005151</td>\n",
       "      <td>0.002142</td>\n",
       "      <td>...</td>\n",
       "      <td>-0.001887</td>\n",
       "      <td>0.007393</td>\n",
       "      <td>0.026333</td>\n",
       "      <td>0.004873</td>\n",
       "      <td>0.001041</td>\n",
       "      <td>0.000215</td>\n",
       "      <td>-0.000851</td>\n",
       "      <td>-0.000701</td>\n",
       "      <td>0.001775</td>\n",
       "      <td>0.000473</td>\n",
       "    </tr>\n",
       "  </tbody>\n",
       "</table>\n",
       "<p>5 rows × 1000 columns</p>\n",
       "</div>"
      ],
      "text/plain": [
       "        0         1         2         3         4         5         6    \\\n",
       "2  0.013403  0.006825 -0.010245 -0.015000 -0.026748 -0.010109 -0.003750   \n",
       "3  0.007868  0.005633  0.011405 -0.013051  0.025158 -0.008671  0.020260   \n",
       "4  0.000249  0.000463 -0.003522 -0.003102 -0.004610 -0.012388  0.001685   \n",
       "5  0.015407 -0.002905  0.006392 -0.002680 -0.004514 -0.003287  0.016639   \n",
       "6  0.016797 -0.001390  0.004231 -0.010629  0.033927  0.025990  0.018602   \n",
       "\n",
       "        7         8         9    ...       990       991       992       993  \\\n",
       "2  0.009227 -0.000312  0.000284  ... -0.007100 -0.023990 -0.006296  0.005537   \n",
       "3  0.000114 -0.010823  0.006024  ...  0.004544  0.011697 -0.022274  0.000750   \n",
       "4  0.009206  0.001130  0.013529  ...  0.010833  0.019292  0.003464 -0.020570   \n",
       "5 -0.005869  0.012220 -0.008339  ...  0.006762  0.016743  0.014307  0.007403   \n",
       "6  0.001068  0.005151  0.002142  ... -0.001887  0.007393  0.026333  0.004873   \n",
       "\n",
       "        994       995       996       997       998       999  \n",
       "2 -0.006628  0.022008 -0.007202 -0.000141 -0.011762 -0.020567  \n",
       "3 -0.010232  0.009160  0.006031  0.010458 -0.002756 -0.005619  \n",
       "4  0.009252  0.003538 -0.005416  0.015968  0.019446  0.013621  \n",
       "5  0.006451 -0.007592 -0.001874  0.005927  0.005770  0.006771  \n",
       "6  0.001041  0.000215 -0.000851 -0.000701  0.001775  0.000473  \n",
       "\n",
       "[5 rows x 1000 columns]"
      ]
     },
     "execution_count": 233,
     "metadata": {},
     "output_type": "execute_result"
    }
   ],
   "source": [
    "rets_zc=zc_prices.pct_change().dropna()\n",
    "rets_zc.head()"
   ]
  },
  {
   "cell_type": "code",
   "execution_count": 232,
   "metadata": {},
   "outputs": [
    {
     "data": {
      "text/html": [
       "<div>\n",
       "<style scoped>\n",
       "    .dataframe tbody tr th:only-of-type {\n",
       "        vertical-align: middle;\n",
       "    }\n",
       "\n",
       "    .dataframe tbody tr th {\n",
       "        vertical-align: top;\n",
       "    }\n",
       "\n",
       "    .dataframe thead th {\n",
       "        text-align: right;\n",
       "    }\n",
       "</style>\n",
       "<table border=\"1\" class=\"dataframe\">\n",
       "  <thead>\n",
       "    <tr style=\"text-align: right;\">\n",
       "      <th></th>\n",
       "      <th>0</th>\n",
       "      <th>1</th>\n",
       "      <th>2</th>\n",
       "      <th>3</th>\n",
       "      <th>4</th>\n",
       "      <th>5</th>\n",
       "      <th>6</th>\n",
       "      <th>7</th>\n",
       "      <th>8</th>\n",
       "      <th>9</th>\n",
       "      <th>...</th>\n",
       "      <th>990</th>\n",
       "      <th>991</th>\n",
       "      <th>992</th>\n",
       "      <th>993</th>\n",
       "      <th>994</th>\n",
       "      <th>995</th>\n",
       "      <th>996</th>\n",
       "      <th>997</th>\n",
       "      <th>998</th>\n",
       "      <th>999</th>\n",
       "    </tr>\n",
       "  </thead>\n",
       "  <tbody>\n",
       "    <tr>\n",
       "      <td>1</td>\n",
       "      <td>-0.028008</td>\n",
       "      <td>-0.058252</td>\n",
       "      <td>-0.050144</td>\n",
       "      <td>-0.029520</td>\n",
       "      <td>0.049577</td>\n",
       "      <td>0.023977</td>\n",
       "      <td>0.009320</td>\n",
       "      <td>-0.059042</td>\n",
       "      <td>0.044451</td>\n",
       "      <td>0.005808</td>\n",
       "      <td>...</td>\n",
       "      <td>0.049587</td>\n",
       "      <td>-0.023209</td>\n",
       "      <td>0.022298</td>\n",
       "      <td>0.030526</td>\n",
       "      <td>-0.018838</td>\n",
       "      <td>0.027926</td>\n",
       "      <td>-0.032383</td>\n",
       "      <td>0.040433</td>\n",
       "      <td>0.030931</td>\n",
       "      <td>-0.048232</td>\n",
       "    </tr>\n",
       "    <tr>\n",
       "      <td>2</td>\n",
       "      <td>-0.044832</td>\n",
       "      <td>0.059178</td>\n",
       "      <td>0.026221</td>\n",
       "      <td>-0.103450</td>\n",
       "      <td>-0.064765</td>\n",
       "      <td>0.008571</td>\n",
       "      <td>-0.071187</td>\n",
       "      <td>0.058953</td>\n",
       "      <td>0.031481</td>\n",
       "      <td>-0.057379</td>\n",
       "      <td>...</td>\n",
       "      <td>0.037110</td>\n",
       "      <td>0.011580</td>\n",
       "      <td>0.008577</td>\n",
       "      <td>0.037283</td>\n",
       "      <td>-0.006400</td>\n",
       "      <td>0.000991</td>\n",
       "      <td>0.001373</td>\n",
       "      <td>0.011513</td>\n",
       "      <td>-0.007740</td>\n",
       "      <td>0.083103</td>\n",
       "    </tr>\n",
       "    <tr>\n",
       "      <td>3</td>\n",
       "      <td>0.075193</td>\n",
       "      <td>-0.040145</td>\n",
       "      <td>0.040342</td>\n",
       "      <td>-0.004289</td>\n",
       "      <td>0.055606</td>\n",
       "      <td>0.012131</td>\n",
       "      <td>-0.040892</td>\n",
       "      <td>0.004195</td>\n",
       "      <td>-0.024951</td>\n",
       "      <td>-0.011597</td>\n",
       "      <td>...</td>\n",
       "      <td>0.013680</td>\n",
       "      <td>-0.016341</td>\n",
       "      <td>-0.016125</td>\n",
       "      <td>-0.027026</td>\n",
       "      <td>0.061233</td>\n",
       "      <td>-0.017793</td>\n",
       "      <td>-0.001279</td>\n",
       "      <td>0.007336</td>\n",
       "      <td>-0.008732</td>\n",
       "      <td>0.006533</td>\n",
       "    </tr>\n",
       "    <tr>\n",
       "      <td>4</td>\n",
       "      <td>0.027782</td>\n",
       "      <td>-0.014568</td>\n",
       "      <td>-0.036449</td>\n",
       "      <td>-0.013456</td>\n",
       "      <td>0.025630</td>\n",
       "      <td>0.024214</td>\n",
       "      <td>-0.017022</td>\n",
       "      <td>-0.001797</td>\n",
       "      <td>-0.011669</td>\n",
       "      <td>0.005103</td>\n",
       "      <td>...</td>\n",
       "      <td>0.008528</td>\n",
       "      <td>-0.102331</td>\n",
       "      <td>-0.040428</td>\n",
       "      <td>0.001668</td>\n",
       "      <td>-0.006789</td>\n",
       "      <td>0.051999</td>\n",
       "      <td>0.025515</td>\n",
       "      <td>0.049637</td>\n",
       "      <td>-0.016200</td>\n",
       "      <td>0.029160</td>\n",
       "    </tr>\n",
       "    <tr>\n",
       "      <td>5</td>\n",
       "      <td>0.028176</td>\n",
       "      <td>-0.006069</td>\n",
       "      <td>0.033063</td>\n",
       "      <td>0.078242</td>\n",
       "      <td>0.047475</td>\n",
       "      <td>-0.011044</td>\n",
       "      <td>-0.057739</td>\n",
       "      <td>0.035492</td>\n",
       "      <td>0.062157</td>\n",
       "      <td>-0.026166</td>\n",
       "      <td>...</td>\n",
       "      <td>-0.018353</td>\n",
       "      <td>-0.036058</td>\n",
       "      <td>0.029124</td>\n",
       "      <td>-0.016349</td>\n",
       "      <td>0.036549</td>\n",
       "      <td>0.059354</td>\n",
       "      <td>0.051409</td>\n",
       "      <td>0.038692</td>\n",
       "      <td>0.002107</td>\n",
       "      <td>-0.024502</td>\n",
       "    </tr>\n",
       "  </tbody>\n",
       "</table>\n",
       "<p>5 rows × 1000 columns</p>\n",
       "</div>"
      ],
      "text/plain": [
       "        0         1         2         3         4         5         6    \\\n",
       "1 -0.028008 -0.058252 -0.050144 -0.029520  0.049577  0.023977  0.009320   \n",
       "2 -0.044832  0.059178  0.026221 -0.103450 -0.064765  0.008571 -0.071187   \n",
       "3  0.075193 -0.040145  0.040342 -0.004289  0.055606  0.012131 -0.040892   \n",
       "4  0.027782 -0.014568 -0.036449 -0.013456  0.025630  0.024214 -0.017022   \n",
       "5  0.028176 -0.006069  0.033063  0.078242  0.047475 -0.011044 -0.057739   \n",
       "\n",
       "        7         8         9    ...       990       991       992       993  \\\n",
       "1 -0.059042  0.044451  0.005808  ...  0.049587 -0.023209  0.022298  0.030526   \n",
       "2  0.058953  0.031481 -0.057379  ...  0.037110  0.011580  0.008577  0.037283   \n",
       "3  0.004195 -0.024951 -0.011597  ...  0.013680 -0.016341 -0.016125 -0.027026   \n",
       "4 -0.001797 -0.011669  0.005103  ...  0.008528 -0.102331 -0.040428  0.001668   \n",
       "5  0.035492  0.062157 -0.026166  ... -0.018353 -0.036058  0.029124 -0.016349   \n",
       "\n",
       "        994       995       996       997       998       999  \n",
       "1 -0.018838  0.027926 -0.032383  0.040433  0.030931 -0.048232  \n",
       "2 -0.006400  0.000991  0.001373  0.011513 -0.007740  0.083103  \n",
       "3  0.061233 -0.017793 -0.001279  0.007336 -0.008732  0.006533  \n",
       "4 -0.006789  0.051999  0.025515  0.049637 -0.016200  0.029160  \n",
       "5  0.036549  0.059354  0.051409  0.038692  0.002107 -0.024502  \n",
       "\n",
       "[5 rows x 1000 columns]"
      ]
     },
     "execution_count": 232,
     "metadata": {},
     "output_type": "execute_result"
    }
   ],
   "source": [
    "#Returns and Volatility of Vanguard ETF from 2015-2019: 0.075377,0.140850 respectively\n",
    "vangrets=erk1.gbm(5, 1000,0.075377,sigma=0.140850 ,steps_per_year=12) \n",
    "vangrets=vangrets.pct_change().dropna()\n",
    "vangrets.head()"
   ]
  },
  {
   "cell_type": "code",
   "execution_count": 216,
   "metadata": {},
   "outputs": [
    {
     "data": {
      "text/plain": [
       "(60, 1000)"
      ]
     },
     "execution_count": 216,
     "metadata": {},
     "output_type": "execute_result"
    }
   ],
   "source": [
    "zc_prices=zc_prices[1:]\n",
    "zc_prices.shape"
   ]
  },
  {
   "cell_type": "code",
   "execution_count": 225,
   "metadata": {},
   "outputs": [
    {
     "data": {
      "text/html": [
       "<div>\n",
       "<style scoped>\n",
       "    .dataframe tbody tr th:only-of-type {\n",
       "        vertical-align: middle;\n",
       "    }\n",
       "\n",
       "    .dataframe tbody tr th {\n",
       "        vertical-align: top;\n",
       "    }\n",
       "\n",
       "    .dataframe thead th {\n",
       "        text-align: right;\n",
       "    }\n",
       "</style>\n",
       "<table border=\"1\" class=\"dataframe\">\n",
       "  <thead>\n",
       "    <tr style=\"text-align: right;\">\n",
       "      <th></th>\n",
       "      <th>vangrets</th>\n",
       "      <th>fixed7030</th>\n",
       "      <th>glide8020</th>\n",
       "      <th>zcbonds</th>\n",
       "      <th>Floor 80%, multiple=4</th>\n",
       "    </tr>\n",
       "  </thead>\n",
       "  <tbody>\n",
       "    <tr>\n",
       "      <td>mean</td>\n",
       "      <td>1.415777</td>\n",
       "      <td>1.362285</td>\n",
       "      <td>1.328284</td>\n",
       "      <td>1.164645e+00</td>\n",
       "      <td>1.385160</td>\n",
       "    </tr>\n",
       "    <tr>\n",
       "      <td>std</td>\n",
       "      <td>0.452400</td>\n",
       "      <td>0.344479</td>\n",
       "      <td>0.285422</td>\n",
       "      <td>3.959610e-15</td>\n",
       "      <td>0.437113</td>\n",
       "    </tr>\n",
       "    <tr>\n",
       "      <td>p_breach</td>\n",
       "      <td>0.045000</td>\n",
       "      <td>0.016000</td>\n",
       "      <td>0.009000</td>\n",
       "      <td>NaN</td>\n",
       "      <td>NaN</td>\n",
       "    </tr>\n",
       "    <tr>\n",
       "      <td>e_short</td>\n",
       "      <td>0.078577</td>\n",
       "      <td>0.070591</td>\n",
       "      <td>0.058148</td>\n",
       "      <td>NaN</td>\n",
       "      <td>NaN</td>\n",
       "    </tr>\n",
       "    <tr>\n",
       "      <td>p_reach</td>\n",
       "      <td>NaN</td>\n",
       "      <td>NaN</td>\n",
       "      <td>NaN</td>\n",
       "      <td>NaN</td>\n",
       "      <td>NaN</td>\n",
       "    </tr>\n",
       "    <tr>\n",
       "      <td>e_surplus</td>\n",
       "      <td>NaN</td>\n",
       "      <td>NaN</td>\n",
       "      <td>NaN</td>\n",
       "      <td>NaN</td>\n",
       "      <td>NaN</td>\n",
       "    </tr>\n",
       "  </tbody>\n",
       "</table>\n",
       "</div>"
      ],
      "text/plain": [
       "           vangrets  fixed7030  glide8020       zcbonds  Floor 80%, multiple=4\n",
       "mean       1.415777   1.362285   1.328284  1.164645e+00               1.385160\n",
       "std        0.452400   0.344479   0.285422  3.959610e-15               0.437113\n",
       "p_breach   0.045000   0.016000   0.009000           NaN                    NaN\n",
       "e_short    0.078577   0.070591   0.058148           NaN                    NaN\n",
       "p_reach         NaN        NaN        NaN           NaN                    NaN\n",
       "e_surplus       NaN        NaN        NaN           NaN                    NaN"
      ]
     },
     "execution_count": 225,
     "metadata": {},
     "output_type": "execute_result"
    }
   ],
   "source": [
    "rets_g8020 = erk1.bt_mix(vangrets,rets_zc, allocator=erk1.glidepath_allocator, start_glide=0.9,end_glide=0.45)\n",
    "rets_7030z = erk1.bt_mix(vangrets, rets_zc, allocator=erk1.fixedmix_allocator, w1=0.8)\n",
    "rets_floor75m3 = erk1.bt_mix(vangrets, rets_zc, allocator=erk1.floor_allocator, zc_prices=zc_prices, floor=0.8,m=3)\n",
    "pd.concat([erk1.terminal_stats(vangrets, name=\"vangrets\",floor=0.8),\n",
    "           erk1.terminal_stats(rets_7030z, name=\"fixed7030\",floor=0.8 ),\n",
    "           erk1.terminal_stats(rets_g8020, name=\"glide8020\",floor=0.8 ),\n",
    "           erk1.terminal_stats(rets_zc,name=\"zcbonds\"),\n",
    "           erk1.terminal_stats(rets_floor75m3, name=\"Floor 80%, multiple=4\",floor=0.8 )],\n",
    "          axis=1)\n"
   ]
  },
  {
   "cell_type": "markdown",
   "metadata": {},
   "source": [
    "Thus, as expected the CPPI based floor allocation strategy works best at preserving the rate of return and preventing the asset value to plummet below the floor value."
   ]
  },
  {
   "cell_type": "code",
   "execution_count": 226,
   "metadata": {},
   "outputs": [],
   "source": [
    "rets_floor=rets_floor75m3.mean(axis=1)"
   ]
  },
  {
   "cell_type": "code",
   "execution_count": 227,
   "metadata": {},
   "outputs": [],
   "source": [
    "rets_floor=pd.DataFrame(rets_floor)"
   ]
  },
  {
   "cell_type": "code",
   "execution_count": 228,
   "metadata": {},
   "outputs": [],
   "source": [
    "vanga=vang[-60:]\n",
    "vanga.index=rets_floor.index"
   ]
  },
  {
   "cell_type": "code",
   "execution_count": 229,
   "metadata": {},
   "outputs": [],
   "source": [
    "rets=pd.concat([rets_floor,vanga],axis=1)\n"
   ]
  },
  {
   "cell_type": "code",
   "execution_count": 230,
   "metadata": {},
   "outputs": [
    {
     "data": {
      "text/html": [
       "<div>\n",
       "<style scoped>\n",
       "    .dataframe tbody tr th:only-of-type {\n",
       "        vertical-align: middle;\n",
       "    }\n",
       "\n",
       "    .dataframe tbody tr th {\n",
       "        vertical-align: top;\n",
       "    }\n",
       "\n",
       "    .dataframe thead th {\n",
       "        text-align: right;\n",
       "    }\n",
       "</style>\n",
       "<table border=\"1\" class=\"dataframe\">\n",
       "  <thead>\n",
       "    <tr style=\"text-align: right;\">\n",
       "      <th></th>\n",
       "      <th>Annualized Return</th>\n",
       "      <th>Annualized Vol</th>\n",
       "      <th>Skewness</th>\n",
       "      <th>Kurtosis</th>\n",
       "      <th>Cornish-Fisher VaR (5%)</th>\n",
       "      <th>Historic CVaR (5%)</th>\n",
       "      <th>Sharpe Ratio</th>\n",
       "      <th>Max Drawdown</th>\n",
       "    </tr>\n",
       "  </thead>\n",
       "  <tbody>\n",
       "    <tr>\n",
       "      <td>0</td>\n",
       "      <td>0.066402</td>\n",
       "      <td>0.004015</td>\n",
       "      <td>-0.024508</td>\n",
       "      <td>2.842900</td>\n",
       "      <td>-0.003471</td>\n",
       "      <td>-0.002990</td>\n",
       "      <td>8.825120</td>\n",
       "      <td>0.000000</td>\n",
       "    </tr>\n",
       "    <tr>\n",
       "      <td>vangexcess</td>\n",
       "      <td>0.075377</td>\n",
       "      <td>0.140824</td>\n",
       "      <td>-0.482130</td>\n",
       "      <td>4.370063</td>\n",
       "      <td>0.063647</td>\n",
       "      <td>0.092242</td>\n",
       "      <td>0.313445</td>\n",
       "      <td>-0.189554</td>\n",
       "    </tr>\n",
       "  </tbody>\n",
       "</table>\n",
       "</div>"
      ],
      "text/plain": [
       "            Annualized Return  Annualized Vol  Skewness  Kurtosis  \\\n",
       "0                    0.066402        0.004015 -0.024508  2.842900   \n",
       "vangexcess           0.075377        0.140824 -0.482130  4.370063   \n",
       "\n",
       "            Cornish-Fisher VaR (5%)  Historic CVaR (5%)  Sharpe Ratio  \\\n",
       "0                         -0.003471           -0.002990      8.825120   \n",
       "vangexcess                 0.063647            0.092242      0.313445   \n",
       "\n",
       "            Max Drawdown  \n",
       "0               0.000000  \n",
       "vangexcess     -0.189554  "
      ]
     },
     "execution_count": 230,
     "metadata": {},
     "output_type": "execute_result"
    }
   ],
   "source": [
    "rets_floor75m3 = erk1.bt_mix(vangrets, rets_zc, allocator=erk1.floor_allocator, zc_prices=zc_prices, floor=0.8,m=5)\n",
    "erk.summary_stats(rets)"
   ]
  },
  {
   "cell_type": "code",
   "execution_count": 231,
   "metadata": {},
   "outputs": [
    {
     "data": {
      "text/plain": [
       "<matplotlib.axes._subplots.AxesSubplot at 0x1fbba863bc8>"
      ]
     },
     "execution_count": 231,
     "metadata": {},
     "output_type": "execute_result"
    },
    {
     "data": {
      "image/png": "[encoded data removed]",
      "text/plain": [
       "<Figure size 1008x504 with 1 Axes>"
      ]
     },
     "metadata": {
      "needs_background": "light"
     },
     "output_type": "display_data"
    }
   ],
   "source": [
    "import matplotlib.pyplot as plt\n",
    "(1+rets).cumprod().plot(figsize=(14, 7))"
   ]
  },
  {
   "cell_type": "markdown",
   "metadata": {},
   "source": [
    "Thus we see that using a bond portfolio in combination with Vanguard equity portfolio allocation limited to a lower limit of 80% significantly reduces drawdowns and volatility while barely affecting the returns. "
   ]
  }
 ],
 "metadata": {
  "kernelspec": {
   "display_name": "Python 3",
   "language": "python",
   "name": "python3"
  },
  "language_info": {
   "codemirror_mode": {
    "name": "ipython",
    "version": 3
   },
   "file_extension": ".py",
   "mimetype": "text/x-python",
   "name": "python",
   "nbconvert_exporter": "python",
   "pygments_lexer": "ipython3",
   "version": "3.7.4"
  }
 },
 "nbformat": 4,
 "nbformat_minor": 2
}
